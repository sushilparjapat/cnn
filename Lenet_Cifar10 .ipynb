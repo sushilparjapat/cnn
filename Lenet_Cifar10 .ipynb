{
  "nbformat": 4,
  "nbformat_minor": 0,
  "metadata": {
    "colab": {
      "provenance": [],
      "gpuType": "T4"
    },
    "kernelspec": {
      "name": "python3",
      "display_name": "Python 3"
    },
    "language_info": {
      "name": "python"
    },
    "accelerator": "GPU"
  },
  "cells": [
    {
      "cell_type": "markdown",
      "source": [
        "Lenet"
      ],
      "metadata": {
        "id": "EG9s9vO7R2t6"
      }
    },
    {
      "cell_type": "code",
      "source": [
        "import torch\n",
        "import torchvision\n",
        "import torchvision.transforms as transforms\n",
        "import matplotlib.pyplot as plt\n",
        "import torch.optim as optim\n",
        "import time\n",
        "import torch\n",
        "import torch.nn as nn\n",
        "import torch.nn.functional as F"
      ],
      "metadata": {
        "id": "JG_GgnErQ64Q"
      },
      "execution_count": 17,
      "outputs": []
    },
    {
      "cell_type": "code",
      "source": [
        "transform = transforms.Compose([\n",
        "    transforms.ToTensor(),\n",
        "    transforms.Normalize((0.5, 0.5, 0.5), (0.5, 0.5, 0.5))  # Normalizing CIFAR-10 images\n",
        "])\n"
      ],
      "metadata": {
        "id": "CngCFIFITcc4"
      },
      "execution_count": 18,
      "outputs": []
    },
    {
      "cell_type": "code",
      "source": [
        "trainset = torchvision.datasets.CIFAR10(root='./data', train=True, download=True, transform=transform)\n",
        "trainloader = torch.utils.data.DataLoader(trainset, batch_size=64, shuffle=True, num_workers=2)\n",
        "\n",
        "testset = torchvision.datasets.CIFAR10(root='./data', train=False, download=True, transform=transform)\n",
        "testloader = torch.utils.data.DataLoader(testset, batch_size=64, shuffle=False, num_workers=2)\n"
      ],
      "metadata": {
        "colab": {
          "base_uri": "https://localhost:8080/"
        },
        "id": "4vllxlu5Tdtt",
        "outputId": "60cb52e4-0b7c-47f9-e41d-a93a70ab1aa2"
      },
      "execution_count": 19,
      "outputs": [
        {
          "output_type": "stream",
          "name": "stdout",
          "text": [
            "Files already downloaded and verified\n",
            "Files already downloaded and verified\n"
          ]
        }
      ]
    },
    {
      "cell_type": "code",
      "source": [
        "print(f'Training set size: {len(trainset)} images')\n",
        "print(f'Test set size: {len(testset)} images')\n",
        "print(f'Number of classes: {len(trainset.classes)}')\n",
        "print(f'Class names: {trainset.classes}')\n",
        "print(f'Class map name to value {trainset.class_to_idx}')\n"
      ],
      "metadata": {
        "colab": {
          "base_uri": "https://localhost:8080/"
        },
        "id": "nRz61HxSTfGA",
        "outputId": "941d12d8-1f91-4f3d-de83-a4266444946d"
      },
      "execution_count": 20,
      "outputs": [
        {
          "output_type": "stream",
          "name": "stdout",
          "text": [
            "Training set size: 50000 images\n",
            "Test set size: 10000 images\n",
            "Number of classes: 10\n",
            "Class names: ['airplane', 'automobile', 'bird', 'cat', 'deer', 'dog', 'frog', 'horse', 'ship', 'truck']\n",
            "Class map name to value {'airplane': 0, 'automobile': 1, 'bird': 2, 'cat': 3, 'deer': 4, 'dog': 5, 'frog': 6, 'horse': 7, 'ship': 8, 'truck': 9}\n"
          ]
        }
      ]
    },
    {
      "cell_type": "code",
      "source": [
        "image, label = trainset[0]"
      ],
      "metadata": {
        "id": "otFCD4t4Z3Nk"
      },
      "execution_count": 21,
      "outputs": []
    },
    {
      "cell_type": "code",
      "source": [
        "image.size()"
      ],
      "metadata": {
        "colab": {
          "base_uri": "https://localhost:8080/"
        },
        "id": "jKcA_jgvasEL",
        "outputId": "9a049001-1b5f-4dca-f2ae-90ec9c008eaa"
      },
      "execution_count": 22,
      "outputs": [
        {
          "output_type": "execute_result",
          "data": {
            "text/plain": [
              "torch.Size([3, 32, 32])"
            ]
          },
          "metadata": {},
          "execution_count": 22
        }
      ]
    },
    {
      "cell_type": "markdown",
      "source": [
        "Model Archt."
      ],
      "metadata": {
        "id": "8leRh_pxYCpr"
      }
    },
    {
      "cell_type": "code",
      "source": [],
      "metadata": {
        "id": "iQy_pkSRXFM6"
      },
      "execution_count": 22,
      "outputs": []
    },
    {
      "cell_type": "code",
      "source": [
        "class LeNet5(nn.Module):\n",
        "    def __init__(self):\n",
        "        super(LeNet5, self).__init__()\n",
        "        # Convolutional layers\n",
        "        self.conv1 = nn.Conv2d(3, 6, kernel_size=5, stride=1, padding=2)  # Output: (6, 32, 32)\n",
        "        self.bn1 = nn.BatchNorm2d(6)\n",
        "        self.conv2 = nn.Conv2d(6, 16, kernel_size=5, stride=1, padding=0)  # Output: (16, 28, 28)\n",
        "        self.bn2 = nn.BatchNorm2d(16)  # Batch normalization for conv2\n",
        "        self.conv3 = nn.Conv2d(16, 120, kernel_size=5, stride=1, padding=0)  # Output: (120, 24, 24)\n",
        "        self.bn3 = nn.BatchNorm2d(120)  # Batch normalization for conv3\n",
        "\n",
        "        # Fully connected layers\n",
        "        self.fc1 = nn.Linear(120 * 2 * 2, 84)  # Output: (84)\n",
        "        self.bn4 = nn.BatchNorm1d(84)  # Batch normalization for fc1\n",
        "        self.fc2 = nn.Linear(84, 10)  # Output: (10)\n",
        "\n",
        "        # Pooling layer\n",
        "        self.pool = nn.MaxPool2d(kernel_size=2, stride=2, padding=0)  # Reduces dimensions by half\n",
        "\n",
        "        # Initialize weights\n",
        "        self._initialize_weights()\n",
        "\n",
        "    def _initialize_weights(self):\n",
        "        # Initialize convolutional layers\n",
        "        nn.init.xavier_normal_(self.conv1.weight)  # Xavier initialization for conv1\n",
        "        nn.init.xavier_normal_(self.conv2.weight)  # Xavier initialization for conv2\n",
        "        nn.init.xavier_normal_(self.conv3.weight)  # Xavier initialization for conv3\n",
        "        # Biases for convolutional layers (usually initialized to zero)\n",
        "        nn.init.constant_(self.conv1.bias, 0)\n",
        "        nn.init.constant_(self.conv2.bias, 0)\n",
        "        nn.init.constant_(self.conv3.bias, 0)\n",
        "\n",
        "        # Initialize fully connected layers\n",
        "        nn.init.xavier_normal_(self.fc1.weight)  # Xavier initialization for fc1\n",
        "        nn.init.xavier_normal_(self.fc2.weight)  # Xavier initialization for fc2\n",
        "        # Biases for fully connected layers (usually initialized to zero)\n",
        "        nn.init.constant_(self.fc1.bias, 0)\n",
        "        nn.init.constant_(self.fc2.bias, 0)\n",
        "\n",
        "    def forward(self, x):\n",
        "        # Apply convolutional layer 1\n",
        "        x = self.conv1(x)  # Input: (3, 32, 32) -> Output: (6, 32, 32)\n",
        "        x = self.bn1(x)\n",
        "        x = F.relu(x)      # ReLU activation: (6, 32, 32)\n",
        "        x = self.pool(x)   # Max pooling: (6, 32, 32) -> (6, 16, 16)\n",
        "\n",
        "        # Apply convolutional layer 2\n",
        "        x = self.conv2(x)  # Input: (6, 16, 16) -> Output: (16, 12, 12)\n",
        "        x = self.bn2(x)\n",
        "        x = F.relu(x)      # ReLU activation: (16, 12, 12)\n",
        "        x = self.pool(x)   # Max pooling: (16, 12, 12) -> (16, 6, 6)\n",
        "\n",
        "        # Apply convolutional layer 3\n",
        "        x = self.conv3(x)  # Input: (16, 6, 6) -> Output: (120, 2, 2)\n",
        "        x = self.bn3(x)\n",
        "        x = F.relu(x)      # ReLU activation: (120, 2, 2)\n",
        "\n",
        "        # Flatten the tensor for fully connected layers\n",
        "        x = x.view(-1, 120 * 2 * 2)  # Flatten: Input: (120, 2, 2) -> Output: (480)\n",
        "\n",
        "        # Apply fully connected layer 1\n",
        "        x = self.fc1(x)    # Input: (480) -> Output: (84)\n",
        "        x = self.bn4(x)\n",
        "        x = F.relu(x)      # ReLU activation: (84)\n",
        "\n",
        "        # Apply fully connected layer 2\n",
        "        x = self.fc2(x)    # Input: (84) -> Output: (10)\n",
        "        x = torch.softmax(x, dim=1)\n",
        "        return x\n"
      ],
      "metadata": {
        "id": "AuK3dHsbYFf7"
      },
      "execution_count": 23,
      "outputs": []
    },
    {
      "cell_type": "code",
      "source": [
        "device = torch.device(\"cuda\" if torch.cuda.is_available() else \"cpu\")\n",
        "model = LeNet5().to(device)"
      ],
      "metadata": {
        "id": "5-m1w2vqqLNe"
      },
      "execution_count": 24,
      "outputs": []
    },
    {
      "cell_type": "code",
      "source": [
        "# # Test with a dummy input\n",
        "# dummy_input = torch.randn(1, 3, 32, 32)  # Batch size of 1, 3 channels, 32x32 image\n",
        "# logits = model(dummy_input)\n",
        "# print(logits)\n",
        "\n",
        "# Convert logits to probabilities if needed (for evaluation or inference)\n",
        "# _, predicted_class = torch.max(logits, 1)"
      ],
      "metadata": {
        "id": "5iFxS5_CqH9L"
      },
      "execution_count": 25,
      "outputs": []
    },
    {
      "cell_type": "code",
      "source": [
        "from torchsummary import summary\n",
        "summary(model,input_size = (3,32,32))"
      ],
      "metadata": {
        "colab": {
          "base_uri": "https://localhost:8080/"
        },
        "id": "R9m4B_R_kxYM",
        "outputId": "402734f3-dd38-4d81-8568-d2d16cd04fb0"
      },
      "execution_count": 26,
      "outputs": [
        {
          "output_type": "stream",
          "name": "stdout",
          "text": [
            "----------------------------------------------------------------\n",
            "        Layer (type)               Output Shape         Param #\n",
            "================================================================\n",
            "            Conv2d-1            [-1, 6, 32, 32]             456\n",
            "       BatchNorm2d-2            [-1, 6, 32, 32]              12\n",
            "         MaxPool2d-3            [-1, 6, 16, 16]               0\n",
            "            Conv2d-4           [-1, 16, 12, 12]           2,416\n",
            "       BatchNorm2d-5           [-1, 16, 12, 12]              32\n",
            "         MaxPool2d-6             [-1, 16, 6, 6]               0\n",
            "            Conv2d-7            [-1, 120, 2, 2]          48,120\n",
            "       BatchNorm2d-8            [-1, 120, 2, 2]             240\n",
            "            Linear-9                   [-1, 84]          40,404\n",
            "      BatchNorm1d-10                   [-1, 84]             168\n",
            "           Linear-11                   [-1, 10]             850\n",
            "================================================================\n",
            "Total params: 92,698\n",
            "Trainable params: 92,698\n",
            "Non-trainable params: 0\n",
            "----------------------------------------------------------------\n",
            "Input size (MB): 0.01\n",
            "Forward/backward pass size (MB): 0.15\n",
            "Params size (MB): 0.35\n",
            "Estimated Total Size (MB): 0.52\n",
            "----------------------------------------------------------------\n"
          ]
        }
      ]
    },
    {
      "cell_type": "code",
      "source": [
        "criterion = nn.CrossEntropyLoss()  # Cross-entropy loss for multi-class classification\n",
        "optimizer = optim.Adam(model.parameters(), lr=0.0001)  # Adam optimizer with learning rate 0.001"
      ],
      "metadata": {
        "id": "XnwWA8A9qpOk"
      },
      "execution_count": 27,
      "outputs": []
    },
    {
      "cell_type": "code",
      "source": [
        "train_losses = []\n",
        "test_losses = []\n",
        "epochs = []\n",
        "import matplotlib.pyplot as plt\n",
        "def plot_losses(epochs, train_losses, test_losses):\n",
        "    plt.figure(figsize=(10, 5))\n",
        "    plt.plot(epochs, train_losses, 'b', label=\"Train Loss\")\n",
        "    plt.plot(epochs, test_losses, 'r', label=\"Test Loss\")\n",
        "    plt.xlabel('Epoch')\n",
        "    plt.ylabel('Loss')\n",
        "    plt.title('Train and Test Loss over Epochs')\n",
        "    plt.legend()\n",
        "    plt.grid(True)\n",
        "    plt.show()\n"
      ],
      "metadata": {
        "id": "---Z-BOMrRtU"
      },
      "execution_count": 28,
      "outputs": []
    },
    {
      "cell_type": "code",
      "source": [
        "n_epochs = 5\n",
        "from tqdm import tqdm\n",
        "\n",
        "for epoch in tqdm(range(n_epochs)):\n",
        "  start_time = time.time()\n",
        "  model.train()\n",
        "  train_loss = 0\n",
        "  for batch_idx , (data,target) in enumerate(trainloader):\n",
        "    data , target  = data.to(device) , target.to(device)\n",
        "    optimizer.zero_grad()\n",
        "    output = model(data)\n",
        "    loss = criterion(output, target)\n",
        "    loss.backward()\n",
        "    optimizer.step()\n",
        "    train_loss += loss.item()*data.size(0)\n",
        "\n",
        "  train_loss /= len(trainloader.dataset)  # average loss for epoch\n",
        "  train_losses.append(train_loss)\n",
        "  epochs.append(epoch + 1)\n",
        "\n",
        "\n",
        "  # Testing the loss\n",
        "  model.eval()\n",
        "  test_loss = 0\n",
        "  correct = 0\n",
        "\n",
        "  with torch.no_grad():\n",
        "    for data , target in testloader:\n",
        "      data , target  = data.to(device) , target.to(device)\n",
        "      output = model(data)\n",
        "      loss = criterion(output, target)\n",
        "      test_loss += loss.item() * data.size(0)  # accumulate loss\n",
        "      _, predicted = torch.max(output.data, 1)\n",
        "      correct += (predicted == target).sum().item()\n",
        "\n",
        "  test_loss /= len(testloader.dataset)  # average loss for epoch\n",
        "  test_losses.append(test_loss)\n",
        "  end_time = time.time()  # End timing\n",
        "  epoch_duration = end_time - start_time  # Duration of the epoch\n",
        "  print(f'Epoch {epoch+1}/{n_epochs}, Train Loss: {train_loss:.4f}, Test Loss: {test_loss:.4f}, Accuracy: {100 * correct / len(testloader.dataset):.2f}%')\n"
      ],
      "metadata": {
        "colab": {
          "base_uri": "https://localhost:8080/"
        },
        "id": "lCMh3obk0HIl",
        "outputId": "75bbc4e8-ccb6-4a50-dd72-be309a0e922e"
      },
      "execution_count": 29,
      "outputs": [
        {
          "output_type": "stream",
          "name": "stderr",
          "text": [
            " 20%|██        | 1/5 [00:17<01:08, 17.20s/it]"
          ]
        },
        {
          "output_type": "stream",
          "name": "stdout",
          "text": [
            "Epoch 1/5, Train Loss: 2.1334, Test Loss: 2.0521, Accuracy: 42.99%\n"
          ]
        },
        {
          "output_type": "stream",
          "name": "stderr",
          "text": [
            "\r 40%|████      | 2/5 [00:34<00:50, 16.98s/it]"
          ]
        },
        {
          "output_type": "stream",
          "name": "stdout",
          "text": [
            "Epoch 2/5, Train Loss: 2.0192, Test Loss: 1.9806, Accuracy: 50.14%\n"
          ]
        },
        {
          "output_type": "stream",
          "name": "stderr",
          "text": [
            "\r 60%|██████    | 3/5 [00:50<00:33, 16.70s/it]"
          ]
        },
        {
          "output_type": "stream",
          "name": "stdout",
          "text": [
            "Epoch 3/5, Train Loss: 1.9627, Test Loss: 1.9475, Accuracy: 53.37%\n"
          ]
        },
        {
          "output_type": "stream",
          "name": "stderr",
          "text": [
            "\r 80%|████████  | 4/5 [01:14<00:19, 19.56s/it]"
          ]
        },
        {
          "output_type": "stream",
          "name": "stdout",
          "text": [
            "Epoch 4/5, Train Loss: 1.9248, Test Loss: 1.9215, Accuracy: 56.02%\n"
          ]
        },
        {
          "output_type": "stream",
          "name": "stderr",
          "text": [
            "100%|██████████| 5/5 [01:31<00:00, 18.31s/it]"
          ]
        },
        {
          "output_type": "stream",
          "name": "stdout",
          "text": [
            "Epoch 5/5, Train Loss: 1.8972, Test Loss: 1.9089, Accuracy: 56.45%\n"
          ]
        },
        {
          "output_type": "stream",
          "name": "stderr",
          "text": [
            "\n"
          ]
        }
      ]
    },
    {
      "cell_type": "code",
      "source": [
        "# Plot losses\n",
        "plot_losses(epochs, train_losses, test_losses)"
      ],
      "metadata": {
        "id": "x8JViujk0Ax8",
        "colab": {
          "base_uri": "https://localhost:8080/",
          "height": 487
        },
        "outputId": "cf748d0e-0b64-4275-d703-097a8dd7f472"
      },
      "execution_count": 30,
      "outputs": [
        {
          "output_type": "display_data",
          "data": {
            "text/plain": [
              "<Figure size 1000x500 with 1 Axes>"
            ],
            "image/png": "[encoded data removed]"
          },
          "metadata": {}
        }
      ]
    },
    {
      "cell_type": "code",
      "source": [],
      "metadata": {
        "id": "e979b4yY1pJ1"
      },
      "execution_count": 30,
      "outputs": []
    }
  ]
}