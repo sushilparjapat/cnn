{
  "nbformat": 4,
  "nbformat_minor": 0,
  "metadata": {
    "colab": {
      "provenance": [],
      "gpuType": "T4"
    },
    "kernelspec": {
      "name": "python3",
      "display_name": "Python 3"
    },
    "language_info": {
      "name": "python"
    },
    "accelerator": "GPU"
  },
  "cells": [
    {
      "cell_type": "markdown",
      "source": [
        "Lenet"
      ],
      "metadata": {
        "id": "EG9s9vO7R2t6"
      }
    },
    {
      "cell_type": "code",
      "source": [
        "import torch\n",
        "import torchvision\n",
        "import torchvision.transforms as transforms\n",
        "import matplotlib.pyplot as plt\n",
        "import torch.optim as optim\n",
        "import time\n",
        "import torch\n",
        "import torch.nn as nn\n",
        "import torch.nn.functional as F"
      ],
      "metadata": {
        "id": "JG_GgnErQ64Q"
      },
      "execution_count": 53,
      "outputs": []
    },
    {
      "cell_type": "code",
      "source": [
        "transform = transforms.Compose([\n",
        "    transforms.ToTensor(),\n",
        "    transforms.Normalize((0.5, 0.5, 0.5), (0.5, 0.5, 0.5))  # Normalizing CIFAR-10 images\n",
        "])\n"
      ],
      "metadata": {
        "id": "CngCFIFITcc4"
      },
      "execution_count": 54,
      "outputs": []
    },
    {
      "cell_type": "code",
      "source": [
        "trainset = torchvision.datasets.CIFAR10(root='./data', train=True, download=True, transform=transform)\n",
        "trainloader = torch.utils.data.DataLoader(trainset, batch_size=64, shuffle=True, num_workers=2)\n",
        "\n",
        "testset = torchvision.datasets.CIFAR10(root='./data', train=False, download=True, transform=transform)\n",
        "testloader = torch.utils.data.DataLoader(testset, batch_size=64, shuffle=False, num_workers=2)\n"
      ],
      "metadata": {
        "colab": {
          "base_uri": "https://localhost:8080/"
        },
        "id": "4vllxlu5Tdtt",
        "outputId": "051522be-e73a-4c8f-fec1-481350d7e19a"
      },
      "execution_count": 55,
      "outputs": [
        {
          "output_type": "stream",
          "name": "stdout",
          "text": [
            "Files already downloaded and verified\n",
            "Files already downloaded and verified\n"
          ]
        }
      ]
    },
    {
      "cell_type": "code",
      "source": [
        "print(f'Training set size: {len(trainset)} images')\n",
        "print(f'Test set size: {len(testset)} images')\n",
        "print(f'Number of classes: {len(trainset.classes)}')\n",
        "print(f'Class names: {trainset.classes}')\n",
        "print(f'Class map name to value {trainset.class_to_idx}')\n"
      ],
      "metadata": {
        "colab": {
          "base_uri": "https://localhost:8080/"
        },
        "id": "nRz61HxSTfGA",
        "outputId": "08c69adb-062d-41d8-da8c-857811b85cf3"
      },
      "execution_count": 56,
      "outputs": [
        {
          "output_type": "stream",
          "name": "stdout",
          "text": [
            "Training set size: 50000 images\n",
            "Test set size: 10000 images\n",
            "Number of classes: 10\n",
            "Class names: ['airplane', 'automobile', 'bird', 'cat', 'deer', 'dog', 'frog', 'horse', 'ship', 'truck']\n",
            "Class map name to value {'airplane': 0, 'automobile': 1, 'bird': 2, 'cat': 3, 'deer': 4, 'dog': 5, 'frog': 6, 'horse': 7, 'ship': 8, 'truck': 9}\n"
          ]
        }
      ]
    },
    {
      "cell_type": "code",
      "source": [
        "image, label = trainset[0]"
      ],
      "metadata": {
        "id": "otFCD4t4Z3Nk"
      },
      "execution_count": 57,
      "outputs": []
    },
    {
      "cell_type": "code",
      "source": [
        "image.size()"
      ],
      "metadata": {
        "colab": {
          "base_uri": "https://localhost:8080/"
        },
        "id": "jKcA_jgvasEL",
        "outputId": "019f6df3-3a6c-478b-fa43-7d861572098c"
      },
      "execution_count": 58,
      "outputs": [
        {
          "output_type": "execute_result",
          "data": {
            "text/plain": [
              "torch.Size([3, 32, 32])"
            ]
          },
          "metadata": {},
          "execution_count": 58
        }
      ]
    },
    {
      "cell_type": "markdown",
      "source": [
        "Model Archt."
      ],
      "metadata": {
        "id": "8leRh_pxYCpr"
      }
    },
    {
      "cell_type": "code",
      "source": [],
      "metadata": {
        "id": "iQy_pkSRXFM6"
      },
      "execution_count": 58,
      "outputs": []
    },
    {
      "cell_type": "code",
      "source": [
        "import torch\n",
        "import torch.nn as nn\n",
        "import torch.nn.functional as F\n",
        "\n",
        "class AlexNet(nn.Module):\n",
        "    def __init__(self):\n",
        "        super(AlexNet, self).__init__()\n",
        "        # Convolutional layers\n",
        "        self.conv1 = nn.Conv2d(3, 32, kernel_size=3, stride=1, padding=1)  # Output: (32, 32, 32)\n",
        "        self.bn1 = nn.BatchNorm2d(32)\n",
        "        self.conv2 = nn.Conv2d(32, 64, kernel_size=3, stride=1, padding=1)  # Output: (64, 32, 32)\n",
        "        self.bn2 = nn.BatchNorm2d(64)\n",
        "        self.conv3 = nn.Conv2d(64, 128, kernel_size=3, stride=1, padding=1)  # Output: (128, 32, 32)\n",
        "        self.bn3 = nn.BatchNorm2d(128)\n",
        "        self.conv4 = nn.Conv2d(128, 128, kernel_size=3, stride=1, padding=1)  # Output: (128, 32, 32)\n",
        "        self.bn4 = nn.BatchNorm2d(128)\n",
        "        self.conv5 = nn.Conv2d(128, 256, kernel_size=3, stride=1, padding=1)  # Output: (256, 32, 32)\n",
        "        self.bn5 = nn.BatchNorm2d(256)\n",
        "\n",
        "        # Pooling layer\n",
        "        self.pool = nn.MaxPool2d(kernel_size=2, stride=2, padding=0)  # Reduces dimensions by half\n",
        "\n",
        "        # Fully connected layers\n",
        "        self.fc1 = nn.Linear(256 * 4 * 4, 512)  # Adjusted based on final feature map size\n",
        "        self.bn6 = nn.BatchNorm1d(512)\n",
        "        self.fc2 = nn.Linear(512, 512)\n",
        "        self.bn7 = nn.BatchNorm1d(512)\n",
        "        self.fc3 = nn.Linear(512, 10)  # 10 classes for CIFAR-10\n",
        "\n",
        "        # Initialize weights\n",
        "        self._initialize_weights()\n",
        "\n",
        "    def _initialize_weights(self):\n",
        "        # Initialize convolutional layers\n",
        "        nn.init.xavier_normal_(self.conv1.weight)\n",
        "        nn.init.xavier_normal_(self.conv2.weight)\n",
        "        nn.init.xavier_normal_(self.conv3.weight)\n",
        "        nn.init.xavier_normal_(self.conv4.weight)\n",
        "        nn.init.xavier_normal_(self.conv5.weight)\n",
        "        nn.init.constant_(self.conv1.bias, 0)\n",
        "        nn.init.constant_(self.conv2.bias, 0)\n",
        "        nn.init.constant_(self.conv3.bias, 0)\n",
        "        nn.init.constant_(self.conv4.bias, 0)\n",
        "        nn.init.constant_(self.conv5.bias, 0)\n",
        "\n",
        "        # Initialize fully connected layers\n",
        "        nn.init.xavier_normal_(self.fc1.weight)\n",
        "        nn.init.xavier_normal_(self.fc2.weight)\n",
        "        nn.init.xavier_normal_(self.fc3.weight)\n",
        "        nn.init.constant_(self.fc1.bias, 0)\n",
        "        nn.init.constant_(self.fc2.bias, 0)\n",
        "        nn.init.constant_(self.fc3.bias, 0)\n",
        "\n",
        "    def forward(self, x):\n",
        "        # Apply convolutional layer 1\n",
        "        x = self.conv1(x)  # Input: (3, 32, 32) -> Output: (32, 32, 32)\n",
        "        x = self.bn1(x)\n",
        "        x = F.relu(x)\n",
        "        x = self.pool(x)   # Max pooling: (32, 32, 32) -> (32, 16, 16)\n",
        "\n",
        "        # Apply convolutional layer 2\n",
        "        x = self.conv2(x)  # Input: (32, 16, 16) -> Output: (64, 16, 16)\n",
        "        x = self.bn2(x)\n",
        "        x = F.relu(x)\n",
        "        x = self.pool(x)   # Max pooling: (64, 16, 16) -> (64, 8, 8)\n",
        "\n",
        "        # Apply convolutional layer 3\n",
        "        x = self.conv3(x)  # Input: (64, 8, 8) -> Output: (128, 8, 8)\n",
        "        x = self.bn3(x)\n",
        "        x = F.relu(x)\n",
        "\n",
        "        # Apply convolutional layer 4\n",
        "        x = self.conv4(x)  # Input: (128, 8, 8) -> Output: (128, 8, 8)\n",
        "        x = self.bn4(x)\n",
        "        x = F.relu(x)\n",
        "\n",
        "        # Apply convolutional layer 5\n",
        "        x = self.conv5(x)  # Input: (128, 8, 8) -> Output: (256, 8, 8)\n",
        "        x = self.bn5(x)\n",
        "        x = F.relu(x)\n",
        "        x = self.pool(x)   # Max pooling: (256, 8, 8) -> (256, 4, 4)\n",
        "\n",
        "        # Flatten the tensor for fully connected layers\n",
        "        x = x.view(-1, 256 * 4 * 4)  # Flatten: (256, 4, 4) -> (4096)\n",
        "\n",
        "        # Apply fully connected layer 1\n",
        "        x = self.fc1(x)    # Input: (4096) -> Output: (512)\n",
        "        x = self.bn6(x)\n",
        "        x = F.relu(x)\n",
        "\n",
        "        # Apply fully connected layer 2\n",
        "        x = self.fc2(x)    # Input: (512) -> Output: (512)\n",
        "        x = self.bn7(x)\n",
        "        x = F.relu(x)\n",
        "\n",
        "        # Apply fully connected layer 3\n",
        "        x = self.fc3(x)    # Input: (512) -> Output: (10)\n",
        "        x = torch.softmax(x, dim=1)\n",
        "        return x\n"
      ],
      "metadata": {
        "id": "AuK3dHsbYFf7"
      },
      "execution_count": 59,
      "outputs": []
    },
    {
      "cell_type": "code",
      "source": [
        "device = torch.device(\"cuda\" if torch.cuda.is_available() else \"cpu\")\n",
        "model = AlexNet().to(device)"
      ],
      "metadata": {
        "id": "5-m1w2vqqLNe"
      },
      "execution_count": 60,
      "outputs": []
    },
    {
      "cell_type": "code",
      "source": [
        "# # Test with a dummy input\n",
        "# dummy_input = torch.randn(1, 3, 32, 32)  # Batch size of 1, 3 channels, 32x32 image\n",
        "# logits = model(dummy_input)\n",
        "# print(logits)\n",
        "\n",
        "# Convert logits to probabilities if needed (for evaluation or inference)\n",
        "# _, predicted_class = torch.max(logits, 1)"
      ],
      "metadata": {
        "id": "5iFxS5_CqH9L"
      },
      "execution_count": 61,
      "outputs": []
    },
    {
      "cell_type": "code",
      "source": [
        "from torchsummary import summary\n",
        "summary(model,input_size = (3,32,32))"
      ],
      "metadata": {
        "colab": {
          "base_uri": "https://localhost:8080/"
        },
        "id": "R9m4B_R_kxYM",
        "outputId": "7bcbd9df-1e6d-4f9a-9053-38f2817fcc9a"
      },
      "execution_count": 62,
      "outputs": [
        {
          "output_type": "stream",
          "name": "stdout",
          "text": [
            "----------------------------------------------------------------\n",
            "        Layer (type)               Output Shape         Param #\n",
            "================================================================\n",
            "            Conv2d-1           [-1, 32, 32, 32]             896\n",
            "       BatchNorm2d-2           [-1, 32, 32, 32]              64\n",
            "         MaxPool2d-3           [-1, 32, 16, 16]               0\n",
            "            Conv2d-4           [-1, 64, 16, 16]          18,496\n",
            "       BatchNorm2d-5           [-1, 64, 16, 16]             128\n",
            "         MaxPool2d-6             [-1, 64, 8, 8]               0\n",
            "            Conv2d-7            [-1, 128, 8, 8]          73,856\n",
            "       BatchNorm2d-8            [-1, 128, 8, 8]             256\n",
            "            Conv2d-9            [-1, 128, 8, 8]         147,584\n",
            "      BatchNorm2d-10            [-1, 128, 8, 8]             256\n",
            "           Conv2d-11            [-1, 256, 8, 8]         295,168\n",
            "      BatchNorm2d-12            [-1, 256, 8, 8]             512\n",
            "        MaxPool2d-13            [-1, 256, 4, 4]               0\n",
            "           Linear-14                  [-1, 512]       2,097,664\n",
            "      BatchNorm1d-15                  [-1, 512]           1,024\n",
            "           Linear-16                  [-1, 512]         262,656\n",
            "      BatchNorm1d-17                  [-1, 512]           1,024\n",
            "           Linear-18                   [-1, 10]           5,130\n",
            "================================================================\n",
            "Total params: 2,904,714\n",
            "Trainable params: 2,904,714\n",
            "Non-trainable params: 0\n",
            "----------------------------------------------------------------\n",
            "Input size (MB): 0.01\n",
            "Forward/backward pass size (MB): 1.39\n",
            "Params size (MB): 11.08\n",
            "Estimated Total Size (MB): 12.48\n",
            "----------------------------------------------------------------\n"
          ]
        }
      ]
    },
    {
      "cell_type": "code",
      "source": [
        "criterion = nn.CrossEntropyLoss()  # Cross-entropy loss for multi-class classification\n",
        "optimizer = optim.Adam(model.parameters(), lr=0.001)  # Adam optimizer with learning rate 0.001"
      ],
      "metadata": {
        "id": "XnwWA8A9qpOk"
      },
      "execution_count": 63,
      "outputs": []
    },
    {
      "cell_type": "code",
      "source": [
        "train_losses = []\n",
        "test_losses = []\n",
        "epochs = []\n",
        "import matplotlib.pyplot as plt\n",
        "def plot_losses(epochs, train_losses, test_losses):\n",
        "    plt.figure(figsize=(10, 5))\n",
        "    plt.plot(epochs, train_losses, 'b', label=\"Train Loss\")\n",
        "    plt.plot(epochs, test_losses, 'r', label=\"Test Loss\")\n",
        "    plt.xlabel('Epoch')\n",
        "    plt.ylabel('Loss')\n",
        "    plt.title('Train and Test Loss over Epochs')\n",
        "    plt.legend()\n",
        "    plt.grid(True)\n",
        "    plt.show()\n"
      ],
      "metadata": {
        "id": "---Z-BOMrRtU"
      },
      "execution_count": 64,
      "outputs": []
    },
    {
      "cell_type": "code",
      "source": [
        "n_epochs = 10\n",
        "from tqdm import tqdm\n",
        "\n",
        "for epoch in tqdm(range(n_epochs)):\n",
        "  start_time = time.time()\n",
        "  model.train()\n",
        "  train_loss = 0\n",
        "  for batch_idx , (data,target) in enumerate(trainloader):\n",
        "    data , target  = data.to(device) , target.to(device)\n",
        "    optimizer.zero_grad()\n",
        "    output = model(data)\n",
        "    loss = criterion(output, target)\n",
        "    loss.backward()\n",
        "    optimizer.step()\n",
        "    train_loss += loss.item()*data.size(0)\n",
        "\n",
        "  train_loss /= len(trainloader.dataset)  # average loss for epoch\n",
        "  train_losses.append(train_loss)\n",
        "  epochs.append(epoch + 1)\n",
        "\n",
        "\n",
        "  # Testing the loss\n",
        "  model.eval()\n",
        "  test_loss = 0\n",
        "  correct = 0\n",
        "\n",
        "  with torch.no_grad():\n",
        "    for data , target in testloader:\n",
        "      data , target  = data.to(device) , target.to(device)\n",
        "      output = model(data)\n",
        "      loss = criterion(output, target)\n",
        "      test_loss += loss.item() * data.size(0)  # accumulate loss\n",
        "      _, predicted = torch.max(output.data, 1)\n",
        "      correct += (predicted == target).sum().item()\n",
        "\n",
        "  test_loss /= len(testloader.dataset)  # average loss for epoch\n",
        "  test_losses.append(test_loss)\n",
        "  end_time = time.time()  # End timing\n",
        "  epoch_duration = end_time - start_time  # Duration of the epoch\n",
        "  print(f'Epoch {epoch+1}/{n_epochs}, Train Loss: {train_loss:.4f}, Test Loss: {test_loss:.4f}, Accuracy: {100 * correct / len(testloader.dataset):.2f}%')\n"
      ],
      "metadata": {
        "colab": {
          "base_uri": "https://localhost:8080/"
        },
        "id": "lCMh3obk0HIl",
        "outputId": "e1c4afa8-825f-48b7-abd1-646a2058b4fe"
      },
      "execution_count": 65,
      "outputs": [
        {
          "output_type": "stream",
          "name": "stderr",
          "text": [
            " 10%|█         | 1/10 [00:17<02:37, 17.54s/it]"
          ]
        },
        {
          "output_type": "stream",
          "name": "stdout",
          "text": [
            "Epoch 1/10, Train Loss: 1.9829, Test Loss: 1.9053, Accuracy: 55.32%\n"
          ]
        },
        {
          "output_type": "stream",
          "name": "stderr",
          "text": [
            "\r 20%|██        | 2/10 [00:36<02:25, 18.16s/it]"
          ]
        },
        {
          "output_type": "stream",
          "name": "stdout",
          "text": [
            "Epoch 2/10, Train Loss: 1.8610, Test Loss: 1.8544, Accuracy: 60.46%\n"
          ]
        },
        {
          "output_type": "stream",
          "name": "stderr",
          "text": [
            "\r 30%|███       | 3/10 [00:53<02:04, 17.83s/it]"
          ]
        },
        {
          "output_type": "stream",
          "name": "stdout",
          "text": [
            "Epoch 3/10, Train Loss: 1.8068, Test Loss: 1.7862, Accuracy: 67.35%\n"
          ]
        },
        {
          "output_type": "stream",
          "name": "stderr",
          "text": [
            "\r 40%|████      | 4/10 [01:12<01:49, 18.17s/it]"
          ]
        },
        {
          "output_type": "stream",
          "name": "stdout",
          "text": [
            "Epoch 4/10, Train Loss: 1.7729, Test Loss: 1.7685, Accuracy: 69.03%\n"
          ]
        },
        {
          "output_type": "stream",
          "name": "stderr",
          "text": [
            "\r 50%|█████     | 5/10 [01:30<01:30, 18.05s/it]"
          ]
        },
        {
          "output_type": "stream",
          "name": "stdout",
          "text": [
            "Epoch 5/10, Train Loss: 1.7501, Test Loss: 1.7640, Accuracy: 69.59%\n"
          ]
        },
        {
          "output_type": "stream",
          "name": "stderr",
          "text": [
            "\r 60%|██████    | 6/10 [01:47<01:11, 17.80s/it]"
          ]
        },
        {
          "output_type": "stream",
          "name": "stdout",
          "text": [
            "Epoch 6/10, Train Loss: 1.7309, Test Loss: 1.7581, Accuracy: 70.14%\n"
          ]
        },
        {
          "output_type": "stream",
          "name": "stderr",
          "text": [
            "\r 70%|███████   | 7/10 [02:05<00:53, 17.99s/it]"
          ]
        },
        {
          "output_type": "stream",
          "name": "stdout",
          "text": [
            "Epoch 7/10, Train Loss: 1.7180, Test Loss: 1.7368, Accuracy: 72.31%\n"
          ]
        },
        {
          "output_type": "stream",
          "name": "stderr",
          "text": [
            "\r 80%|████████  | 8/10 [02:23<00:35, 17.82s/it]"
          ]
        },
        {
          "output_type": "stream",
          "name": "stdout",
          "text": [
            "Epoch 8/10, Train Loss: 1.7007, Test Loss: 1.7191, Accuracy: 74.12%\n"
          ]
        },
        {
          "output_type": "stream",
          "name": "stderr",
          "text": [
            "\r 90%|█████████ | 9/10 [02:40<00:17, 17.70s/it]"
          ]
        },
        {
          "output_type": "stream",
          "name": "stdout",
          "text": [
            "Epoch 9/10, Train Loss: 1.6851, Test Loss: 1.7021, Accuracy: 75.80%\n"
          ]
        },
        {
          "output_type": "stream",
          "name": "stderr",
          "text": [
            "100%|██████████| 10/10 [03:00<00:00, 18.00s/it]"
          ]
        },
        {
          "output_type": "stream",
          "name": "stdout",
          "text": [
            "Epoch 10/10, Train Loss: 1.6753, Test Loss: 1.7088, Accuracy: 75.28%\n"
          ]
        },
        {
          "output_type": "stream",
          "name": "stderr",
          "text": [
            "\n"
          ]
        }
      ]
    },
    {
      "cell_type": "code",
      "source": [
        "# Plot losses\n",
        "plot_losses(epochs, train_losses, test_losses)"
      ],
      "metadata": {
        "id": "x8JViujk0Ax8",
        "colab": {
          "base_uri": "https://localhost:8080/",
          "height": 487
        },
        "outputId": "a02c1549-819c-412a-edfe-6cf2699009b0"
      },
      "execution_count": 66,
      "outputs": [
        {
          "output_type": "display_data",
          "data": {
            "text/plain": [
              "<Figure size 1000x500 with 1 Axes>"
            ],
            "image/png": "[encoded data removed]"
          },
          "metadata": {}
        }
      ]
    },
    {
      "cell_type": "code",
      "source": [],
      "metadata": {
        "id": "e979b4yY1pJ1"
      },
      "execution_count": 66,
      "outputs": []
    }
  ]
}